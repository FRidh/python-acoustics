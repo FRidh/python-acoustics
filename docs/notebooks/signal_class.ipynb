{
 "cells": [
  {
   "cell_type": "markdown",
   "metadata": {},
   "source": [
    "# `Signal` objects in `acoustics`\n",
    "\n",
    "This notebook demonstrates some of the functionality of the `Signal` class in the `acoustics` package."
   ]
  },
  {
   "cell_type": "code",
   "execution_count": null,
   "metadata": {},
   "outputs": [],
   "source": [
    "import acoustics\n",
    "from acoustics import Signal\n",
    "import matplotlib\n",
    "%matplotlib inline"
   ]
  },
  {
   "cell_type": "markdown",
   "metadata": {},
   "source": [
    "## Generating a signal\n",
    "\n",
    "A `Signal` can be constructed given two parameters, an iterable representing the samples of the signal, and a float representing the sample frequency. Furthermore, it's possible to load a signal directly from an audio file.\n",
    "\n",
    "In this example, we generate a fixed-length pink noise signal."
   ]
  },
  {
   "cell_type": "code",
   "execution_count": null,
   "metadata": {},
   "outputs": [],
   "source": [
    "duration = 60.\n",
    "fs = 44100.\n",
    "nsamples = int(fs*duration)\n",
    "\n",
    "signal = Signal(acoustics.generator.noise(nsamples, color=\"pink\"), fs=fs)"
   ]
  },
  {
   "cell_type": "markdown",
   "metadata": {},
   "source": [
    "## Spectrum\n",
    "\n",
    "To check that the given signal is indeed pink noise we can have a look at its power spectrum. The `power_spectrum()` method results the spectrum as an array. In this case, however, we want to plot the result and for that the convenience method `plot_power_spectrum()` exists."
   ]
  },
  {
   "cell_type": "code",
   "execution_count": null,
   "metadata": {},
   "outputs": [],
   "source": [
    "pxx = signal.power_spectrum()"
   ]
  },
  {
   "cell_type": "code",
   "execution_count": null,
   "metadata": {},
   "outputs": [],
   "source": [
    "signal.plot_power_spectrum()"
   ]
  },
  {
   "cell_type": "markdown",
   "metadata": {},
   "source": [
    "## Fractional-octaves"
   ]
  },
  {
   "cell_type": "markdown",
   "metadata": {},
   "source": [
    "Fractional-octaves can also be computed by using fraction-octave bandpass filters. Let's first create an object describing our frequency bands."
   ]
  },
  {
   "cell_type": "code",
   "execution_count": null,
   "metadata": {},
   "outputs": [],
   "source": [
    "octaves = acoustics.signal.OctaveBand(fstart=12, fstop=12000, fraction=3)\n",
    "print(octaves.nominal)"
   ]
  },
  {
   "cell_type": "markdown",
   "metadata": {},
   "source": [
    "We can now compute or plot fractional octaves in decibels"
   ]
  },
  {
   "cell_type": "code",
   "execution_count": null,
   "metadata": {},
   "outputs": [],
   "source": [
    "signal.plot_fractional_octaves(octaves, fraction=octaves.fraction)"
   ]
  },
  {
   "cell_type": "markdown",
   "metadata": {},
   "source": [
    "As expected the response is flat. The deviations that can be seen is due to the uncertainties when estimating the power of a stochastic signal, increasing the amount of samples will improve the estimate."
   ]
  }
 ],
 "metadata": {
  "kernelspec": {
   "display_name": "Python 3",
   "language": "python",
   "name": "python3"
  },
  "language_info": {
   "codemirror_mode": {
    "name": "ipython",
    "version": 3
   },
   "file_extension": ".py",
   "mimetype": "text/x-python",
   "name": "python",
   "nbconvert_exporter": "python",
   "pygments_lexer": "ipython3",
   "version": "3.7.2"
  }
 },
 "nbformat": 4,
 "nbformat_minor": 2
}
